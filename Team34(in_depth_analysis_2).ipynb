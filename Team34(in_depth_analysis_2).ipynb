{
  "nbformat": 4,
  "nbformat_minor": 0,
  "metadata": {
    "colab": {
      "provenance": [],
      "include_colab_link": true
    },
    "kernelspec": {
      "name": "python3",
      "display_name": "Python 3"
    },
    "language_info": {
      "name": "python"
    }
  },
  "cells": [
    {
      "cell_type": "markdown",
      "metadata": {
        "id": "view-in-github",
        "colab_type": "text"
      },
      "source": [
        "<a href=\"https://colab.research.google.com/github/Allenlee599/data_science_Team34-in-depth-analysis/blob/main/Team34(in_depth_analysis_2).ipynb\" target=\"_parent\"><img src=\"https://colab.research.google.com/assets/colab-badge.svg\" alt=\"Open In Colab\"/></a>"
      ]
    },
    {
      "cell_type": "code",
      "execution_count": null,
      "metadata": {
        "id": "dzMzTFxihPuv"
      },
      "outputs": [],
      "source": [
        "from datascience import *\n",
        "%matplotlib inline\n",
        "import matplotlib\n",
        "import matplotlib.pyplot as plots\n",
        "import numpy as np\n",
        "import pandas as pd"
      ]
    },
    {
      "cell_type": "code",
      "source": [
        "from google.colab import files\n",
        "uploaded = files.upload()"
      ],
      "metadata": {
        "colab": {
          "base_uri": "https://localhost:8080/",
          "height": 76
        },
        "id": "6RuvGTuDhVku",
        "outputId": "b26f1951-5ab6-47d5-fc31-262c0537cc7f"
      },
      "execution_count": null,
      "outputs": [
        {
          "output_type": "display_data",
          "data": {
            "text/plain": [
              "<IPython.core.display.HTML object>"
            ],
            "text/html": [
              "\n",
              "     <input type=\"file\" id=\"files-86c917d8-c19c-4988-8ef0-c4dbe81afb01\" name=\"files[]\" multiple disabled\n",
              "        style=\"border:none\" />\n",
              "     <output id=\"result-86c917d8-c19c-4988-8ef0-c4dbe81afb01\">\n",
              "      Upload widget is only available when the cell has been executed in the\n",
              "      current browser session. Please rerun this cell to enable.\n",
              "      </output>\n",
              "      <script>// Copyright 2017 Google LLC\n",
              "//\n",
              "// Licensed under the Apache License, Version 2.0 (the \"License\");\n",
              "// you may not use this file except in compliance with the License.\n",
              "// You may obtain a copy of the License at\n",
              "//\n",
              "//      http://www.apache.org/licenses/LICENSE-2.0\n",
              "//\n",
              "// Unless required by applicable law or agreed to in writing, software\n",
              "// distributed under the License is distributed on an \"AS IS\" BASIS,\n",
              "// WITHOUT WARRANTIES OR CONDITIONS OF ANY KIND, either express or implied.\n",
              "// See the License for the specific language governing permissions and\n",
              "// limitations under the License.\n",
              "\n",
              "/**\n",
              " * @fileoverview Helpers for google.colab Python module.\n",
              " */\n",
              "(function(scope) {\n",
              "function span(text, styleAttributes = {}) {\n",
              "  const element = document.createElement('span');\n",
              "  element.textContent = text;\n",
              "  for (const key of Object.keys(styleAttributes)) {\n",
              "    element.style[key] = styleAttributes[key];\n",
              "  }\n",
              "  return element;\n",
              "}\n",
              "\n",
              "// Max number of bytes which will be uploaded at a time.\n",
              "const MAX_PAYLOAD_SIZE = 100 * 1024;\n",
              "\n",
              "function _uploadFiles(inputId, outputId) {\n",
              "  const steps = uploadFilesStep(inputId, outputId);\n",
              "  const outputElement = document.getElementById(outputId);\n",
              "  // Cache steps on the outputElement to make it available for the next call\n",
              "  // to uploadFilesContinue from Python.\n",
              "  outputElement.steps = steps;\n",
              "\n",
              "  return _uploadFilesContinue(outputId);\n",
              "}\n",
              "\n",
              "// This is roughly an async generator (not supported in the browser yet),\n",
              "// where there are multiple asynchronous steps and the Python side is going\n",
              "// to poll for completion of each step.\n",
              "// This uses a Promise to block the python side on completion of each step,\n",
              "// then passes the result of the previous step as the input to the next step.\n",
              "function _uploadFilesContinue(outputId) {\n",
              "  const outputElement = document.getElementById(outputId);\n",
              "  const steps = outputElement.steps;\n",
              "\n",
              "  const next = steps.next(outputElement.lastPromiseValue);\n",
              "  return Promise.resolve(next.value.promise).then((value) => {\n",
              "    // Cache the last promise value to make it available to the next\n",
              "    // step of the generator.\n",
              "    outputElement.lastPromiseValue = value;\n",
              "    return next.value.response;\n",
              "  });\n",
              "}\n",
              "\n",
              "/**\n",
              " * Generator function which is called between each async step of the upload\n",
              " * process.\n",
              " * @param {string} inputId Element ID of the input file picker element.\n",
              " * @param {string} outputId Element ID of the output display.\n",
              " * @return {!Iterable<!Object>} Iterable of next steps.\n",
              " */\n",
              "function* uploadFilesStep(inputId, outputId) {\n",
              "  const inputElement = document.getElementById(inputId);\n",
              "  inputElement.disabled = false;\n",
              "\n",
              "  const outputElement = document.getElementById(outputId);\n",
              "  outputElement.innerHTML = '';\n",
              "\n",
              "  const pickedPromise = new Promise((resolve) => {\n",
              "    inputElement.addEventListener('change', (e) => {\n",
              "      resolve(e.target.files);\n",
              "    });\n",
              "  });\n",
              "\n",
              "  const cancel = document.createElement('button');\n",
              "  inputElement.parentElement.appendChild(cancel);\n",
              "  cancel.textContent = 'Cancel upload';\n",
              "  const cancelPromise = new Promise((resolve) => {\n",
              "    cancel.onclick = () => {\n",
              "      resolve(null);\n",
              "    };\n",
              "  });\n",
              "\n",
              "  // Wait for the user to pick the files.\n",
              "  const files = yield {\n",
              "    promise: Promise.race([pickedPromise, cancelPromise]),\n",
              "    response: {\n",
              "      action: 'starting',\n",
              "    }\n",
              "  };\n",
              "\n",
              "  cancel.remove();\n",
              "\n",
              "  // Disable the input element since further picks are not allowed.\n",
              "  inputElement.disabled = true;\n",
              "\n",
              "  if (!files) {\n",
              "    return {\n",
              "      response: {\n",
              "        action: 'complete',\n",
              "      }\n",
              "    };\n",
              "  }\n",
              "\n",
              "  for (const file of files) {\n",
              "    const li = document.createElement('li');\n",
              "    li.append(span(file.name, {fontWeight: 'bold'}));\n",
              "    li.append(span(\n",
              "        `(${file.type || 'n/a'}) - ${file.size} bytes, ` +\n",
              "        `last modified: ${\n",
              "            file.lastModifiedDate ? file.lastModifiedDate.toLocaleDateString() :\n",
              "                                    'n/a'} - `));\n",
              "    const percent = span('0% done');\n",
              "    li.appendChild(percent);\n",
              "\n",
              "    outputElement.appendChild(li);\n",
              "\n",
              "    const fileDataPromise = new Promise((resolve) => {\n",
              "      const reader = new FileReader();\n",
              "      reader.onload = (e) => {\n",
              "        resolve(e.target.result);\n",
              "      };\n",
              "      reader.readAsArrayBuffer(file);\n",
              "    });\n",
              "    // Wait for the data to be ready.\n",
              "    let fileData = yield {\n",
              "      promise: fileDataPromise,\n",
              "      response: {\n",
              "        action: 'continue',\n",
              "      }\n",
              "    };\n",
              "\n",
              "    // Use a chunked sending to avoid message size limits. See b/62115660.\n",
              "    let position = 0;\n",
              "    do {\n",
              "      const length = Math.min(fileData.byteLength - position, MAX_PAYLOAD_SIZE);\n",
              "      const chunk = new Uint8Array(fileData, position, length);\n",
              "      position += length;\n",
              "\n",
              "      const base64 = btoa(String.fromCharCode.apply(null, chunk));\n",
              "      yield {\n",
              "        response: {\n",
              "          action: 'append',\n",
              "          file: file.name,\n",
              "          data: base64,\n",
              "        },\n",
              "      };\n",
              "\n",
              "      let percentDone = fileData.byteLength === 0 ?\n",
              "          100 :\n",
              "          Math.round((position / fileData.byteLength) * 100);\n",
              "      percent.textContent = `${percentDone}% done`;\n",
              "\n",
              "    } while (position < fileData.byteLength);\n",
              "  }\n",
              "\n",
              "  // All done.\n",
              "  yield {\n",
              "    response: {\n",
              "      action: 'complete',\n",
              "    }\n",
              "  };\n",
              "}\n",
              "\n",
              "scope.google = scope.google || {};\n",
              "scope.google.colab = scope.google.colab || {};\n",
              "scope.google.colab._files = {\n",
              "  _uploadFiles,\n",
              "  _uploadFilesContinue,\n",
              "};\n",
              "})(self);\n",
              "</script> "
            ]
          },
          "metadata": {}
        },
        {
          "output_type": "stream",
          "name": "stdout",
          "text": [
            "Saving twitchdata-update.csv to twitchdata-update.csv\n"
          ]
        }
      ]
    },
    {
      "cell_type": "code",
      "source": [
        "df = Table.read_table('twitchdata-update.csv')\n",
        "df"
      ],
      "metadata": {
        "colab": {
          "base_uri": "https://localhost:8080/",
          "height": 392
        },
        "id": "85guQnHUiAId",
        "outputId": "162ec277-d13c-4df3-8f6b-4265b3cd65c3"
      },
      "execution_count": null,
      "outputs": [
        {
          "output_type": "execute_result",
          "data": {
            "text/plain": [
              "Channel    | Watch time(Minutes) | Stream time(minutes) | Peak viewers | Average viewers | Followers | Followers gained | Views gained | Partnered | Mature | Language\n",
              "xQcOW      | 6196161750          | 215250               | 222720       | 27716           | 3246298   | 1734810          | 93036735     | True      | False  | English\n",
              "summit1g   | 6091677300          | 211845               | 310998       | 25610           | 5310163   | 1370184          | 89705964     | True      | False  | English\n",
              "Gaules     | 5644590915          | 515280               | 387315       | 10976           | 1767635   | 1023779          | 102611607    | True      | True   | Portuguese\n",
              "ESL_CSGO   | 3970318140          | 517740               | 300575       | 7714            | 3944850   | 703986           | 106546942    | True      | False  | English\n",
              "Tfue       | 3671000070          | 123660               | 285644       | 29602           | 8938903   | 2068424          | 78998587     | True      | False  | English\n",
              "Asmongold  | 3668799075          | 82260                | 263720       | 42414           | 1563438   | 554201           | 61715781     | True      | False  | English\n",
              "NICKMERCS  | 3360675195          | 136275               | 115633       | 24181           | 4074287   | 1089824          | 46084211     | True      | False  | English\n",
              "Fextralife | 3301867485          | 147885               | 68795        | 18985           | 508816    | 425468           | 670137548    | True      | False  | English\n",
              "loltyler1  | 2928356940          | 122490               | 89387        | 22381           | 3530767   | 951730           | 51349926     | True      | False  | English\n",
              "Anomaly    | 2865429915          | 92880                | 125408       | 12377           | 2607076   | 1532689          | 36350662     | True      | False  | English\n",
              "... (990 rows omitted)"
            ],
            "text/html": [
              "<table border=\"1\" class=\"dataframe\">\n",
              "    <thead>\n",
              "        <tr>\n",
              "            <th>Channel</th> <th>Watch time(Minutes)</th> <th>Stream time(minutes)</th> <th>Peak viewers</th> <th>Average viewers</th> <th>Followers</th> <th>Followers gained</th> <th>Views gained</th> <th>Partnered</th> <th>Mature</th> <th>Language</th>\n",
              "        </tr>\n",
              "    </thead>\n",
              "    <tbody>\n",
              "        <tr>\n",
              "            <td>xQcOW     </td> <td>6196161750         </td> <td>215250              </td> <td>222720      </td> <td>27716          </td> <td>3246298  </td> <td>1734810         </td> <td>93036735    </td> <td>True     </td> <td>False </td> <td>English   </td>\n",
              "        </tr>\n",
              "        <tr>\n",
              "            <td>summit1g  </td> <td>6091677300         </td> <td>211845              </td> <td>310998      </td> <td>25610          </td> <td>5310163  </td> <td>1370184         </td> <td>89705964    </td> <td>True     </td> <td>False </td> <td>English   </td>\n",
              "        </tr>\n",
              "        <tr>\n",
              "            <td>Gaules    </td> <td>5644590915         </td> <td>515280              </td> <td>387315      </td> <td>10976          </td> <td>1767635  </td> <td>1023779         </td> <td>102611607   </td> <td>True     </td> <td>True  </td> <td>Portuguese</td>\n",
              "        </tr>\n",
              "        <tr>\n",
              "            <td>ESL_CSGO  </td> <td>3970318140         </td> <td>517740              </td> <td>300575      </td> <td>7714           </td> <td>3944850  </td> <td>703986          </td> <td>106546942   </td> <td>True     </td> <td>False </td> <td>English   </td>\n",
              "        </tr>\n",
              "        <tr>\n",
              "            <td>Tfue      </td> <td>3671000070         </td> <td>123660              </td> <td>285644      </td> <td>29602          </td> <td>8938903  </td> <td>2068424         </td> <td>78998587    </td> <td>True     </td> <td>False </td> <td>English   </td>\n",
              "        </tr>\n",
              "        <tr>\n",
              "            <td>Asmongold </td> <td>3668799075         </td> <td>82260               </td> <td>263720      </td> <td>42414          </td> <td>1563438  </td> <td>554201          </td> <td>61715781    </td> <td>True     </td> <td>False </td> <td>English   </td>\n",
              "        </tr>\n",
              "        <tr>\n",
              "            <td>NICKMERCS </td> <td>3360675195         </td> <td>136275              </td> <td>115633      </td> <td>24181          </td> <td>4074287  </td> <td>1089824         </td> <td>46084211    </td> <td>True     </td> <td>False </td> <td>English   </td>\n",
              "        </tr>\n",
              "        <tr>\n",
              "            <td>Fextralife</td> <td>3301867485         </td> <td>147885              </td> <td>68795       </td> <td>18985          </td> <td>508816   </td> <td>425468          </td> <td>670137548   </td> <td>True     </td> <td>False </td> <td>English   </td>\n",
              "        </tr>\n",
              "        <tr>\n",
              "            <td>loltyler1 </td> <td>2928356940         </td> <td>122490              </td> <td>89387       </td> <td>22381          </td> <td>3530767  </td> <td>951730          </td> <td>51349926    </td> <td>True     </td> <td>False </td> <td>English   </td>\n",
              "        </tr>\n",
              "        <tr>\n",
              "            <td>Anomaly   </td> <td>2865429915         </td> <td>92880               </td> <td>125408      </td> <td>12377          </td> <td>2607076  </td> <td>1532689         </td> <td>36350662    </td> <td>True     </td> <td>False </td> <td>English   </td>\n",
              "        </tr>\n",
              "    </tbody>\n",
              "</table>\n",
              "<p>... (990 rows omitted)</p>"
            ]
          },
          "metadata": {},
          "execution_count": 5
        }
      ]
    },
    {
      "cell_type": "code",
      "source": [
        "df_Chinese = df.where('Language',are.equal_to('Chinese'))\n",
        "#df_Chinese.show(30)\n",
        "\n",
        "df_English = df.where('Language',are.equal_to('English'))\n",
        "df_English.show(10)"
      ],
      "metadata": {
        "colab": {
          "base_uri": "https://localhost:8080/",
          "height": 392
        },
        "id": "Wt0bLX65ijR1",
        "outputId": "317def3a-d2b2-4211-e553-09fa8ba82f4b"
      },
      "execution_count": null,
      "outputs": [
        {
          "output_type": "display_data",
          "data": {
            "text/plain": [
              "<IPython.core.display.HTML object>"
            ],
            "text/html": [
              "<table border=\"1\" class=\"dataframe\">\n",
              "    <thead>\n",
              "        <tr>\n",
              "            <th>Channel</th> <th>Watch time(Minutes)</th> <th>Stream time(minutes)</th> <th>Peak viewers</th> <th>Average viewers</th> <th>Followers</th> <th>Followers gained</th> <th>Views gained</th> <th>Partnered</th> <th>Mature</th> <th>Language</th>\n",
              "        </tr>\n",
              "    </thead>\n",
              "    <tbody>\n",
              "        <tr>\n",
              "            <td>xQcOW       </td> <td>6196161750         </td> <td>215250              </td> <td>222720      </td> <td>27716          </td> <td>3246298  </td> <td>1734810         </td> <td>93036735    </td> <td>True     </td> <td>False </td> <td>English </td>\n",
              "        </tr>\n",
              "        <tr>\n",
              "            <td>summit1g    </td> <td>6091677300         </td> <td>211845              </td> <td>310998      </td> <td>25610          </td> <td>5310163  </td> <td>1370184         </td> <td>89705964    </td> <td>True     </td> <td>False </td> <td>English </td>\n",
              "        </tr>\n",
              "        <tr>\n",
              "            <td>ESL_CSGO    </td> <td>3970318140         </td> <td>517740              </td> <td>300575      </td> <td>7714           </td> <td>3944850  </td> <td>703986          </td> <td>106546942   </td> <td>True     </td> <td>False </td> <td>English </td>\n",
              "        </tr>\n",
              "        <tr>\n",
              "            <td>Tfue        </td> <td>3671000070         </td> <td>123660              </td> <td>285644      </td> <td>29602          </td> <td>8938903  </td> <td>2068424         </td> <td>78998587    </td> <td>True     </td> <td>False </td> <td>English </td>\n",
              "        </tr>\n",
              "        <tr>\n",
              "            <td>Asmongold   </td> <td>3668799075         </td> <td>82260               </td> <td>263720      </td> <td>42414          </td> <td>1563438  </td> <td>554201          </td> <td>61715781    </td> <td>True     </td> <td>False </td> <td>English </td>\n",
              "        </tr>\n",
              "        <tr>\n",
              "            <td>NICKMERCS   </td> <td>3360675195         </td> <td>136275              </td> <td>115633      </td> <td>24181          </td> <td>4074287  </td> <td>1089824         </td> <td>46084211    </td> <td>True     </td> <td>False </td> <td>English </td>\n",
              "        </tr>\n",
              "        <tr>\n",
              "            <td>Fextralife  </td> <td>3301867485         </td> <td>147885              </td> <td>68795       </td> <td>18985          </td> <td>508816   </td> <td>425468          </td> <td>670137548   </td> <td>True     </td> <td>False </td> <td>English </td>\n",
              "        </tr>\n",
              "        <tr>\n",
              "            <td>loltyler1   </td> <td>2928356940         </td> <td>122490              </td> <td>89387       </td> <td>22381          </td> <td>3530767  </td> <td>951730          </td> <td>51349926    </td> <td>True     </td> <td>False </td> <td>English </td>\n",
              "        </tr>\n",
              "        <tr>\n",
              "            <td>Anomaly     </td> <td>2865429915         </td> <td>92880               </td> <td>125408      </td> <td>12377          </td> <td>2607076  </td> <td>1532689         </td> <td>36350662    </td> <td>True     </td> <td>False </td> <td>English </td>\n",
              "        </tr>\n",
              "        <tr>\n",
              "            <td>TimTheTatman</td> <td>2834436990         </td> <td>108780              </td> <td>142067      </td> <td>25664          </td> <td>5265659  </td> <td>1244341         </td> <td>50119786    </td> <td>True     </td> <td>True  </td> <td>English </td>\n",
              "        </tr>\n",
              "    </tbody>\n",
              "</table>\n",
              "<p>... (475 rows omitted)</p>"
            ]
          },
          "metadata": {}
        }
      ]
    },
    {
      "cell_type": "markdown",
      "source": [
        "# Simulation\n",
        "**以下為試著找出英文實況主中，擁有的追蹤者最大值，並利用Simulationx來做**\n",
        "\n",
        "*   隨機樣本數為100\n",
        "*   做5000次\n",
        "\n"
      ],
      "metadata": {
        "id": "uJzj3spJBpWN"
      }
    },
    {
      "cell_type": "code",
      "source": [
        "maximums = make_array()\n",
        "\n",
        "def random_sample_maximum():\n",
        "  maximum = df_English.sample(100)[\"Followers\"].max()\n",
        "  return maximum\n",
        "\n",
        "repetitions = 5000\n",
        "for i in np.arange(repetitions):\n",
        "    maximums = np.append(maximums, random_sample_maximum())\n",
        "\n",
        "simulated_maximum = Table().with_column('Sample_Followers_maximums', maximums)\n",
        "simulated_maximum"
      ],
      "metadata": {
        "colab": {
          "base_uri": "https://localhost:8080/",
          "height": 392
        },
        "id": "EnVnvLinmEyc",
        "outputId": "451ef907-c705-4b48-a456-54b61245416c"
      },
      "execution_count": null,
      "outputs": [
        {
          "output_type": "execute_result",
          "data": {
            "text/plain": [
              "Sample_Followers_maximums\n",
              "8.9389e+06\n",
              "8.9389e+06\n",
              "8.9389e+06\n",
              "8.9389e+06\n",
              "5.26566e+06\n",
              "4.48749e+06\n",
              "7.74407e+06\n",
              "5.36760e+06\n",
              "7.74407e+06\n",
              "4.48749e+06\n",
              "... (4990 rows omitted)"
            ],
            "text/html": [
              "<table border=\"1\" class=\"dataframe\">\n",
              "    <thead>\n",
              "        <tr>\n",
              "            <th>Sample_Followers_maximums</th>\n",
              "        </tr>\n",
              "    </thead>\n",
              "    <tbody>\n",
              "        <tr>\n",
              "            <td>8.9389e+06               </td>\n",
              "        </tr>\n",
              "        <tr>\n",
              "            <td>8.9389e+06               </td>\n",
              "        </tr>\n",
              "        <tr>\n",
              "            <td>8.9389e+06               </td>\n",
              "        </tr>\n",
              "        <tr>\n",
              "            <td>8.9389e+06               </td>\n",
              "        </tr>\n",
              "        <tr>\n",
              "            <td>5.26566e+06              </td>\n",
              "        </tr>\n",
              "        <tr>\n",
              "            <td>4.48749e+06              </td>\n",
              "        </tr>\n",
              "        <tr>\n",
              "            <td>7.74407e+06              </td>\n",
              "        </tr>\n",
              "        <tr>\n",
              "            <td>5.36760e+06              </td>\n",
              "        </tr>\n",
              "        <tr>\n",
              "            <td>7.74407e+06              </td>\n",
              "        </tr>\n",
              "        <tr>\n",
              "            <td>4.48749e+06              </td>\n",
              "        </tr>\n",
              "    </tbody>\n",
              "</table>\n",
              "<p>... (4990 rows omitted)</p>"
            ]
          },
          "metadata": {},
          "execution_count": 7
        }
      ]
    },
    {
      "cell_type": "code",
      "source": [
        "Table().with_column('Sample_Followers_maximums', maximums).hist('Sample_Followers_maximums')"
      ],
      "metadata": {
        "colab": {
          "base_uri": "https://localhost:8080/",
          "height": 321
        },
        "id": "0bnieFZfqE88",
        "outputId": "2cbd1e43-e5a3-419b-fc7c-c83aacfafdb1"
      },
      "execution_count": null,
      "outputs": [
        {
          "output_type": "display_data",
          "data": {
            "text/plain": [
              "<Figure size 432x288 with 1 Axes>"
            ],
            "image/png": "[encoded data removed]"
          },
          "metadata": {
            "needs_background": "light"
          }
        }
      ]
    },
    {
      "cell_type": "code",
      "source": [
        "Sample_Followers_maximum = df_English[\"Followers\"].max()\n",
        "Sample_Followers_maximum"
      ],
      "metadata": {
        "id": "LP896V_BxMb1",
        "colab": {
          "base_uri": "https://localhost:8080/"
        },
        "outputId": "91bea78c-6906-4f24-f6f7-d01154c3009e"
      },
      "execution_count": null,
      "outputs": [
        {
          "output_type": "execute_result",
          "data": {
            "text/plain": [
              "8938903"
            ]
          },
          "metadata": {},
          "execution_count": 9
        }
      ]
    },
    {
      "cell_type": "markdown",
      "source": [
        "# Bootstrap\n"
      ],
      "metadata": {
        "id": "OQQez71VCGg7"
      }
    },
    {
      "cell_type": "code",
      "source": [
        "sf_bins = np.arange(0, 9000000, 10000)\n",
        "df.select('Followers').hist(bins=sf_bins)"
      ],
      "metadata": {
        "colab": {
          "base_uri": "https://localhost:8080/",
          "height": 318
        },
        "id": "llDq1zT6CHDr",
        "outputId": "0eae7d2e-fd81-4bdb-fb19-86b17f02166f"
      },
      "execution_count": null,
      "outputs": [
        {
          "output_type": "display_data",
          "data": {
            "text/plain": [
              "<Figure size 432x288 with 1 Axes>"
            ],
            "image/png": "[encoded data removed]"
          },
          "metadata": {
            "needs_background": "light"
          }
        }
      ]
    },
    {
      "cell_type": "markdown",
      "source": [
        "**從上圖可知，追蹤數主要集中在0到2000000之間，因此挑選0到2000000做bootstrap，避免極端值**"
      ],
      "metadata": {
        "id": "0KRE9ZnmGZo8"
      }
    },
    {
      "cell_type": "code",
      "source": [
        "df_twomillion = df.where('Followers', are.below(2000000))\n",
        "\n",
        "sf_bins = np.arange(0, 2000000, 10000)\n",
        "df_twomillion.select('Followers').hist(bins=sf_bins)"
      ],
      "metadata": {
        "colab": {
          "base_uri": "https://localhost:8080/",
          "height": 318
        },
        "id": "9N5hOhxoGviB",
        "outputId": "abe786e9-2250-4cec-c675-33330d938853"
      },
      "execution_count": null,
      "outputs": [
        {
          "output_type": "display_data",
          "data": {
            "text/plain": [
              "<Figure size 432x288 with 1 Axes>"
            ],
            "image/png": "[encoded data removed]"
          },
          "metadata": {
            "needs_background": "light"
          }
        }
      ]
    },
    {
      "cell_type": "code",
      "source": [
        "pop_median = percentile(50, df_twomillion.column('Followers'))\n",
        "pop_median"
      ],
      "metadata": {
        "colab": {
          "base_uri": "https://localhost:8080/"
        },
        "id": "ZcC9N1PcNwUf",
        "outputId": "ad59e6ac-2059-4514-942e-b49ec8c1a084"
      },
      "execution_count": null,
      "outputs": [
        {
          "output_type": "execute_result",
          "data": {
            "text/plain": [
              "306435"
            ]
          },
          "metadata": {},
          "execution_count": 12
        }
      ]
    },
    {
      "cell_type": "code",
      "source": [
        "our_sample = df_twomillion.sample(250, with_replacement=False)\n",
        "our_sample.select('Followers').hist(bins=sf_bins)"
      ],
      "metadata": {
        "colab": {
          "base_uri": "https://localhost:8080/",
          "height": 318
        },
        "id": "b3rRqJr9JrN9",
        "outputId": "5227cb89-b008-4c94-b753-3f15ac31d9b2"
      },
      "execution_count": null,
      "outputs": [
        {
          "output_type": "display_data",
          "data": {
            "text/plain": [
              "<Figure size 432x288 with 1 Axes>"
            ],
            "image/png": "[encoded data removed]"
          },
          "metadata": {
            "needs_background": "light"
          }
        }
      ]
    },
    {
      "cell_type": "code",
      "source": [
        "est_median = percentile(50, our_sample.column('Followers'))\n",
        "est_median"
      ],
      "metadata": {
        "colab": {
          "base_uri": "https://localhost:8080/"
        },
        "id": "KvaxAxfvKMX5",
        "outputId": "695f630e-1559-4344-cf2b-b5e0a3d8f40f"
      },
      "execution_count": null,
      "outputs": [
        {
          "output_type": "execute_result",
          "data": {
            "text/plain": [
              "299048"
            ]
          },
          "metadata": {},
          "execution_count": 14
        }
      ]
    },
    {
      "cell_type": "markdown",
      "source": [
        "**resampled median**"
      ],
      "metadata": {
        "id": "9zjt_Q4AKgkQ"
      }
    },
    {
      "cell_type": "code",
      "source": [
        "resample_1 = our_sample.sample()\n",
        "resample_1.select('Followers').hist(bins=sf_bins)"
      ],
      "metadata": {
        "colab": {
          "base_uri": "https://localhost:8080/",
          "height": 318
        },
        "id": "2wUplfKlKWtH",
        "outputId": "6f22599e-6359-452a-cd10-9207f4e08c00"
      },
      "execution_count": null,
      "outputs": [
        {
          "output_type": "display_data",
          "data": {
            "text/plain": [
              "<Figure size 432x288 with 1 Axes>"
            ],
            "image/png": "[encoded data removed]"
          },
          "metadata": {
            "needs_background": "light"
          }
        }
      ]
    },
    {
      "cell_type": "code",
      "source": [
        "resampled_median_1 = percentile(50, resample_1.column('Followers'))\n",
        "resampled_median_1"
      ],
      "metadata": {
        "colab": {
          "base_uri": "https://localhost:8080/"
        },
        "id": "S78h2wMTKse4",
        "outputId": "a72e4f5d-4f49-4af5-9c63-3bf8d7122b0f"
      },
      "execution_count": null,
      "outputs": [
        {
          "output_type": "execute_result",
          "data": {
            "text/plain": [
              "285920"
            ]
          },
          "metadata": {},
          "execution_count": 16
        }
      ]
    },
    {
      "cell_type": "code",
      "source": [
        "def one_bootstrap_median():\n",
        "    resampled_table = our_sample.sample()\n",
        "    bootstrapped_median = percentile(50, resampled_table.column('Followers'))\n",
        "    return bootstrapped_median\n",
        "\n",
        "num_repetitions = 5000\n",
        "bstrap_medians = make_array()\n",
        "for i in np.arange(num_repetitions):\n",
        "    bstrap_medians = np.append (bstrap_medians, one_bootstrap_median())"
      ],
      "metadata": {
        "id": "ScNpjr7IK5I5"
      },
      "execution_count": null,
      "outputs": []
    },
    {
      "cell_type": "code",
      "source": [
        "resampled_medians = Table().with_column('Bootstrap Sample Median', bstrap_medians)\n",
        "median_bins=np.arange(250000, 400000, 5000)\n",
        "resampled_medians.hist(bins = median_bins)\n",
        "\n",
        "parameter_green = '#32CD32'\n",
        "plots.ylim(-0.000005, 0.0001)\n",
        "plots.scatter(pop_median, 0, color=parameter_green, s=40, zorder=2);"
      ],
      "metadata": {
        "colab": {
          "base_uri": "https://localhost:8080/",
          "height": 316
        },
        "id": "GKRhXCttNIw5",
        "outputId": "1f0bf926-f365-4cf3-edb1-825e2608cc9c"
      },
      "execution_count": null,
      "outputs": [
        {
          "output_type": "display_data",
          "data": {
            "text/plain": [
              "<Figure size 432x288 with 1 Axes>"
            ],
            "image/png": "[encoded data removed]"
          },
          "metadata": {
            "needs_background": "light"
          }
        }
      ]
    },
    {
      "cell_type": "code",
      "source": [
        "left = percentile(2.5, bstrap_medians)\n",
        "left"
      ],
      "metadata": {
        "colab": {
          "base_uri": "https://localhost:8080/"
        },
        "id": "iMNKvbAHP9I-",
        "outputId": "fbe4c332-7490-47b1-e513-4e2dfd61e074"
      },
      "execution_count": null,
      "outputs": [
        {
          "output_type": "execute_result",
          "data": {
            "text/plain": [
              "259624.0"
            ]
          },
          "metadata": {},
          "execution_count": 19
        }
      ]
    },
    {
      "cell_type": "code",
      "source": [
        "right = percentile(97.5, bstrap_medians)\n",
        "right"
      ],
      "metadata": {
        "colab": {
          "base_uri": "https://localhost:8080/"
        },
        "id": "xCzJooiHQLpt",
        "outputId": "2a3aa6da-1758-4b31-f3e5-6d242a70ca37"
      },
      "execution_count": null,
      "outputs": [
        {
          "output_type": "execute_result",
          "data": {
            "text/plain": [
              "346566.0"
            ]
          },
          "metadata": {},
          "execution_count": 20
        }
      ]
    },
    {
      "cell_type": "code",
      "source": [
        "resampled_medians.hist(bins = median_bins)\n",
        "\n",
        "plots.ylim(-0.000005, 0.0001)\n",
        "plots.plot([left, right], [0, 0], color='yellow', lw=3, zorder=1)\n",
        "plots.scatter(pop_median, 0, color=parameter_green, s=40, zorder=2);"
      ],
      "metadata": {
        "colab": {
          "base_uri": "https://localhost:8080/",
          "height": 316
        },
        "id": "PSUJkt4KRb1v",
        "outputId": "9c0527d6-cb6c-4e26-df09-7b5b767f0767"
      },
      "execution_count": null,
      "outputs": [
        {
          "output_type": "display_data",
          "data": {
            "text/plain": [
              "<Figure size 432x288 with 1 Axes>"
            ],
            "image/png": "[encoded data removed]"
          },
          "metadata": {
            "needs_background": "light"
          }
        }
      ]
    },
    {
      "cell_type": "code",
      "source": [
        "def bootstrap_median(original_sample, num_repetitions):\n",
        "    medians = make_array()\n",
        "    for i in np.arange(num_repetitions):\n",
        "        new_bstrap_sample = original_sample.sample()\n",
        "        new_bstrap_median = percentile(50, new_bstrap_sample.column('Followers'))\n",
        "        medians = np.append(medians, new_bstrap_median)\n",
        "    return medians\n",
        "\n",
        "left_ends = make_array()\n",
        "right_ends = make_array()\n",
        "\n",
        "for i in np.arange(100):\n",
        "    original_sample = df_twomillion.sample(250, with_replacement=False)\n",
        "    medians = bootstrap_median(original_sample, 500)\n",
        "    left_ends = np.append(left_ends, percentile(2.5, medians))\n",
        "    right_ends = np.append(right_ends, percentile(97.5, medians))\n",
        "\n",
        "intervals = Table().with_columns(\n",
        "    'Left', left_ends,\n",
        "    'Right', right_ends\n",
        ")    "
      ],
      "metadata": {
        "id": "wdN75r7_fxlW"
      },
      "execution_count": null,
      "outputs": []
    },
    {
      "cell_type": "code",
      "source": [
        "replication_number = np.ndarray.astype(np.arange(1, 101), str)\n",
        "intervals2 = Table(replication_number).with_rows(make_array(left_ends, right_ends))\n",
        "\n",
        "plots.figure(figsize=(8,8))\n",
        "for i in np.arange(100):\n",
        "    ends = intervals2.column(i)\n",
        "    plots.plot(ends, make_array(i+1, i+1), color='gold')\n",
        "plots.scatter(pop_median, 0, color=parameter_green, s=40, zorder=2)\n",
        "plots.plot(make_array(pop_median, pop_median), make_array(0, 100), color=parameter_green, lw=2)\n",
        "plots.xlabel('Median (dollars)')\n",
        "plots.ylabel('Replication')\n",
        "plots.title('Population Median and Intervals of Estimates');"
      ],
      "metadata": {
        "id": "HlcrONLzf5bl",
        "colab": {
          "base_uri": "https://localhost:8080/",
          "height": 513
        },
        "outputId": "807fe17c-f3ed-4f32-aeff-4e4867b111a1"
      },
      "execution_count": null,
      "outputs": [
        {
          "output_type": "display_data",
          "data": {
            "text/plain": [
              "<Figure size 576x576 with 1 Axes>"
            ],
            "image/png": "[encoded data removed]"
          },
          "metadata": {
            "needs_background": "light"
          }
        }
      ]
    },
    {
      "cell_type": "code",
      "source": [
        "intervals"
      ],
      "metadata": {
        "id": "e-eR4Mwifa7q",
        "outputId": "8e4d9b1a-93e3-456f-831e-8a08459b6970",
        "colab": {
          "base_uri": "https://localhost:8080/",
          "height": 392
        }
      },
      "execution_count": null,
      "outputs": [
        {
          "output_type": "execute_result",
          "data": {
            "text/plain": [
              "Left   | Right\n",
              "275174 | 346631\n",
              "250709 | 312799\n",
              "256353 | 342850\n",
              "267948 | 330772\n",
              "251416 | 323856\n",
              "244207 | 330060\n",
              "256448 | 331632\n",
              "255944 | 346934\n",
              "251416 | 352412\n",
              "245715 | 328671\n",
              "... (90 rows omitted)"
            ],
            "text/html": [
              "<table border=\"1\" class=\"dataframe\">\n",
              "    <thead>\n",
              "        <tr>\n",
              "            <th>Left</th> <th>Right</th>\n",
              "        </tr>\n",
              "    </thead>\n",
              "    <tbody>\n",
              "        <tr>\n",
              "            <td>275174</td> <td>346631</td>\n",
              "        </tr>\n",
              "        <tr>\n",
              "            <td>250709</td> <td>312799</td>\n",
              "        </tr>\n",
              "        <tr>\n",
              "            <td>256353</td> <td>342850</td>\n",
              "        </tr>\n",
              "        <tr>\n",
              "            <td>267948</td> <td>330772</td>\n",
              "        </tr>\n",
              "        <tr>\n",
              "            <td>251416</td> <td>323856</td>\n",
              "        </tr>\n",
              "        <tr>\n",
              "            <td>244207</td> <td>330060</td>\n",
              "        </tr>\n",
              "        <tr>\n",
              "            <td>256448</td> <td>331632</td>\n",
              "        </tr>\n",
              "        <tr>\n",
              "            <td>255944</td> <td>346934</td>\n",
              "        </tr>\n",
              "        <tr>\n",
              "            <td>251416</td> <td>352412</td>\n",
              "        </tr>\n",
              "        <tr>\n",
              "            <td>245715</td> <td>328671</td>\n",
              "        </tr>\n",
              "    </tbody>\n",
              "</table>\n",
              "<p>... (90 rows omitted)</p>"
            ]
          },
          "metadata": {},
          "execution_count": 24
        }
      ]
    }
  ]
}